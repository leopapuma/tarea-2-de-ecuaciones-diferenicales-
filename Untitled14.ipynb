{
  "nbformat": 4,
  "nbformat_minor": 0,
  "metadata": {
    "colab": {
      "provenance": [],
      "authorship_tag": "ABX9TyMbIFGG2E4QcTKZiIIaxbtf",
      "include_colab_link": true
    },
    "kernelspec": {
      "name": "python3",
      "display_name": "Python 3"
    },
    "language_info": {
      "name": "python"
    }
  },
  "cells": [
    {
      "cell_type": "markdown",
      "metadata": {
        "id": "view-in-github",
        "colab_type": "text"
      },
      "source": [
        "<a href=\"https://colab.research.google.com/github/leopapuma/tarea-2-de-ecuaciones-diferenicales-/blob/main/Untitled14.ipynb\" target=\"_parent\"><img src=\"https://colab.research.google.com/assets/colab-badge.svg\" alt=\"Open In Colab\"/></a>"
      ]
    },
    {
      "cell_type": "code",
      "execution_count": 11,
      "metadata": {
        "colab": {
          "base_uri": "https://localhost:8080/"
        },
        "id": "RZoqVjWqA0dB",
        "outputId": "297812d5-668e-43af-b20c-2ed22b48bfdd"
      },
      "outputs": [
        {
          "output_type": "stream",
          "name": "stdout",
          "text": [
            " numero de iteraciones: 13, error obtuvido 5.91278076171875e-05\n",
            "Solución numérica aproximada:\n",
            "[[0.     0.     0.     0.     0.    ]\n",
            " [0.     0.1093 0.2098 0.3236 0.5   ]\n",
            " [0.     0.2276 0.4062 0.5848 1.    ]\n",
            " [0.     0.3951 0.6026 0.6094 0.5   ]\n",
            " [0.     0.75   1.     0.75   0.    ]]\n",
            "\n",
            "Resultados colocadadas en la tabla:\n",
            "  x   y  u(x,y)\n",
            "0.0 0.0  0.0000\n",
            "0.5 0.0  0.0000\n",
            "1.0 0.0  0.0000\n",
            "1.5 0.0  0.0000\n",
            "2.0 0.0  0.0000\n",
            "0.0 0.5  0.0000\n",
            "0.5 0.5  0.1093\n",
            "1.0 0.5  0.2276\n",
            "1.5 0.5  0.3951\n",
            "2.0 0.5  0.7500\n",
            "0.0 1.0  0.0000\n",
            "0.5 1.0  0.2098\n",
            "1.0 1.0  0.4062\n",
            "1.5 1.0  0.6026\n",
            "2.0 1.0  1.0000\n",
            "0.0 1.5  0.0000\n",
            "0.5 1.5  0.3236\n",
            "1.0 1.5  0.5848\n",
            "1.5 1.5  0.6094\n",
            "2.0 1.5  0.7500\n",
            "0.0 2.0  0.0000\n",
            "0.5 2.0  0.5000\n",
            "1.0 2.0  1.0000\n",
            "1.5 2.0  0.5000\n",
            "2.0 2.0  0.0000\n"
          ]
        }
      ],
      "source": [
        "# importamos la libreria numpy\n",
        "import numpy as np\n",
        "import pandas as pd\n",
        "\n",
        "# escribimos los parametros del ejercicio 2,\n",
        "a = 2.0\n",
        "h = 0.5\n",
        "b = int(a/h) + 1  # Número de nodos = 5\n",
        "tol = 1e-4\n",
        "max_iter = 1000 # ponemos un maximo de iteraciones que puede realizar el programa\n",
        "\n",
        "# construimos la malla\n",
        "x = np.linspace(0, a, b) #  Coordenadas x seran las siguientes: [0, 0.5, 1.0, 1.5, 2.0]\n",
        "y = np.linspace(0, a, b)  # Coordenadas y seran las siguiernes : [0, 0.5, 1.0, 1.5, 2.0]\n",
        "\n",
        "# construimos la matriz de solucion\n",
        "u = np.zeros((b, b))\n",
        "\n",
        "# escribimos las condiciones iniciales del problema que es el ejercicio 2\n",
        "# u(0,y) = 0\n",
        "# u(2,y) = y(2-y)\n",
        "for j in range(b):\n",
        "    u[-1, j] = y[j] * (2 - y[j])\n",
        "\n",
        "# u(x,0) = 0\n",
        "# u(x,2) = x si x<1, 2-x si x>=1\n",
        "for i in range(1, b-1):\n",
        "    if x[i] < 1:\n",
        "        u[i, -1] = x[i]\n",
        "    else:\n",
        "        u[i, -1] = 2 - x[i]\n",
        "\n",
        "# ahora hacemos el codigo de Gauss-Seidel usuaremos 2 for para construirlo\n",
        "for it in range(max_iter):\n",
        "    max_error = 0\n",
        "    for i in range(1, b-1):\n",
        "        for j in range(1, b-1):\n",
        "            old = u[i, j]\n",
        "            u[i, j] = 0.25 * (u[i+1, j] + u[i-1, j] + u[i, j+1] + u[i, j-1])\n",
        "            max_error = max(max_error, abs(u[i, j] - old)) # esta linea servira para saber el eror que se obtendra\n",
        "    if max_error < tol:\n",
        "        print(f\" numero de iteraciones: {it}, error obtuvido {max_error}\")\n",
        "        break\n",
        "# construimos una tabla para que guarde el resultado de cada iteracion que se realize\n",
        "data = []\n",
        "for j in range(b):\n",
        "  for i in range(b):\n",
        "    data.append([x[i], y[j], round(u[i, j], 4)])\n",
        "\n",
        "\n",
        "df = pd.DataFrame(data, columns=[\"x\", \"y\", \"u(x,y)\"])\n",
        "\n",
        "\n",
        "\n",
        "\n",
        "print(\"Solución numérica aproximada:\")\n",
        "print(np.round(u, 4)) # en esta linea de codigo imprimimos la matriz con un limite de 4 decimales\n",
        "print(\"\\nResultados colocadadas en la tabla:\")\n",
        "print(df.to_string(index=False))\n"
      ]
    }
  ]
}